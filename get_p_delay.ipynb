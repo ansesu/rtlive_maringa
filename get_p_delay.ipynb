{
 "cells": [
  {
   "cell_type": "markdown",
   "metadata": {
    "toc": true
   },
   "source": [
    "<h1>Table of Contents<span class=\"tocSkip\"></span></h1>\n",
    "<div class=\"toc\"><ul class=\"toc-item\"><li><span><a href=\"#Dados\" data-toc-modified-id=\"Dados-1\"><span class=\"toc-item-num\">1&nbsp;&nbsp;</span>Dados</a></span></li><li><span><a href=\"#Gráficos\" data-toc-modified-id=\"Gráficos-2\"><span class=\"toc-item-num\">2&nbsp;&nbsp;</span>Gráficos</a></span></li><li><span><a href=\"#HTML-Figure\" data-toc-modified-id=\"HTML-Figure-3\"><span class=\"toc-item-num\">3&nbsp;&nbsp;</span>HTML Figure</a></span></li></ul></div>"
   ]
  },
  {
   "cell_type": "code",
   "execution_count": 23,
   "metadata": {
    "ExecuteTime": {
     "end_time": "2020-07-06T23:19:03.204059Z",
     "start_time": "2020-07-06T23:19:03.193686Z"
    }
   },
   "outputs": [],
   "source": [
    "from pyhvr import *\n",
    "import datetime\n",
    "import matplotlib.font_manager\n",
    "%config Completer.use_jedi = False"
   ]
  },
  {
   "cell_type": "code",
   "execution_count": 24,
   "metadata": {
    "ExecuteTime": {
     "end_time": "2020-07-06T23:19:03.443948Z",
     "start_time": "2020-07-06T23:19:03.439144Z"
    }
   },
   "outputs": [
    {
     "data": {
      "text/html": [
       "<style>.container { width:95% !important; }</style>"
      ],
      "text/plain": [
       "<IPython.core.display.HTML object>"
      ]
     },
     "metadata": {},
     "output_type": "display_data"
    }
   ],
   "source": [
    "loadstd()"
   ]
  },
  {
   "cell_type": "code",
   "execution_count": null,
   "metadata": {
    "ExecuteTime": {
     "end_time": "2020-07-06T23:18:18.956109Z",
     "start_time": "2020-07-06T23:18:13.467694Z"
    }
   },
   "outputs": [],
   "source": [
    "# DT_NOTIFIC: Data de preenchimento da ficha de notificação.\n",
    "# DT_SIN_PRI: Data de 1ºs sintomas da SRAG\n",
    "# CO_MUN_NOT: Município onde está localizada a Unidade Sentinela que realizou anotificação.\n",
    "# CO_RG_RESI: Regional de Saúde onde está localizado o Município de residência do paciente\n",
    "# CO_MUN_RES: Município de residência do paciente\n",
    "# FEBRE: Sinais e Sintomas/Febre\n",
    "# DT_DIGITA: Data de inclusão do registro no sistema\n",
    "\n",
    "srag_df = pd.read_csv('INFLUD-30-06-2020.csv',sep=';', encoding='cp860')\n",
    "srag_mga = srag_df[srag_df['CO_RG_RESI']==1369][['DT_NOTIFIC', 'DT_SIN_PRI', 'CO_MUN_NOT', 'CO_RG_RESI', 'CO_MUN_RES', 'FEBRE', 'DT_DIGITA', 'PCR_SARS2']]\n",
    "srag_mga = srag_mga[srag_mga.FEBRE.isin([1,2])]\n",
    "srag_mga = srag_mga[srag_mga.PCR_SARS2 == 1]"
   ]
  },
  {
   "cell_type": "code",
   "execution_count": 21,
   "metadata": {
    "ExecuteTime": {
     "end_time": "2020-07-06T23:18:19.085772Z",
     "start_time": "2020-07-06T23:18:19.076716Z"
    }
   },
   "outputs": [],
   "source": [
    "max_delay = 14\n",
    "onset = pd.to_datetime(srag_mga['DT_SIN_PRI'], format='%d/%m/%Y')\n",
    "confirmed = pd.to_datetime(srag_mga['DT_NOTIFIC'], format='%d/%m/%Y')\n",
    "delays = (confirmed - onset).dt.days\n",
    "delays = delays[delays<max_delay].reset_index(drop=True)\n",
    "p_delay = delays.value_counts().sort_index()\n",
    "new_range = np.arange(0, p_delay.index.max() + 1)\n",
    "p_delay = p_delay.reindex(new_range, fill_value=0)\n",
    "p_delay /= p_delay.sum()\n",
    "INCUBATION_DAYS=5\n",
    "p_delay = (\n",
    "    pd.Series(np.zeros(INCUBATION_DAYS))\n",
    "    .append(p_delay, ignore_index=True)\n",
    "    .rename(\"p_delay\")\n",
    ")"
   ]
  },
  {
   "cell_type": "code",
   "execution_count": 25,
   "metadata": {
    "ExecuteTime": {
     "end_time": "2020-07-06T23:20:30.928053Z",
     "start_time": "2020-07-06T23:20:30.924538Z"
    }
   },
   "outputs": [],
   "source": [
    "p_delay.to_csv('data/p_delay.csv', index=False)"
   ]
  }
 ],
 "metadata": {
  "kernelspec": {
   "display_name": "Python 3",
   "language": "python",
   "name": "python3"
  },
  "language_info": {
   "codemirror_mode": {
    "name": "ipython",
    "version": 3
   },
   "file_extension": ".py",
   "mimetype": "text/x-python",
   "name": "python",
   "nbconvert_exporter": "python",
   "pygments_lexer": "ipython3",
   "version": "3.7.6"
  },
  "toc": {
   "base_numbering": 1,
   "nav_menu": {},
   "number_sections": true,
   "sideBar": false,
   "skip_h1_title": false,
   "title_cell": "Table of Contents",
   "title_sidebar": "Contents",
   "toc_cell": true,
   "toc_position": {},
   "toc_section_display": false,
   "toc_window_display": true
  },
  "varInspector": {
   "cols": {
    "lenName": 16,
    "lenType": 16,
    "lenVar": 40
   },
   "kernels_config": {
    "python": {
     "delete_cmd_postfix": "",
     "delete_cmd_prefix": "del ",
     "library": "var_list.py",
     "varRefreshCmd": "print(var_dic_list())"
    },
    "r": {
     "delete_cmd_postfix": ") ",
     "delete_cmd_prefix": "rm(",
     "library": "var_list.r",
     "varRefreshCmd": "cat(var_dic_list()) "
    }
   },
   "types_to_exclude": [
    "module",
    "function",
    "builtin_function_or_method",
    "instance",
    "_Feature"
   ],
   "window_display": false
  }
 },
 "nbformat": 4,
 "nbformat_minor": 2
}
