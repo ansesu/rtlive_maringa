{
 "cells": [
  {
   "cell_type": "code",
   "execution_count": 4,
   "metadata": {
    "ExecuteTime": {
     "end_time": "2023-03-22T16:20:06.525793Z",
     "start_time": "2023-03-22T16:20:04.542071Z"
    },
    "collapsed": true
   },
   "outputs": [
    {
     "name": "stderr",
     "output_type": "stream",
     "text": [
      "/usr/lib/python3/dist-packages/pkg_resources/__init__.py:116: PkgResourcesDeprecationWarning: 1.1build1 is an invalid version and will not be supported in a future release\n",
      "  warnings.warn(\n",
      "/usr/lib/python3/dist-packages/pkg_resources/__init__.py:116: PkgResourcesDeprecationWarning: 0.1.43ubuntu1 is an invalid version and will not be supported in a future release\n",
      "  warnings.warn(\n"
     ]
    },
    {
     "ename": "ModuleNotFoundError",
     "evalue": "No module named 'pymc3'",
     "output_type": "error",
     "traceback": [
      "\u001b[0;31m---------------------------------------------------------------------------\u001b[0m",
      "\u001b[0;31mModuleNotFoundError\u001b[0m                       Traceback (most recent call last)",
      "Input \u001b[0;32mIn [4]\u001b[0m, in \u001b[0;36m<cell line: 7>\u001b[0;34m()\u001b[0m\n\u001b[1;32m      5\u001b[0m \u001b[38;5;28;01mimport\u001b[39;00m \u001b[38;5;21;01mnumpy\u001b[39;00m \u001b[38;5;28;01mas\u001b[39;00m \u001b[38;5;21;01mnp\u001b[39;00m\n\u001b[1;32m      6\u001b[0m \u001b[38;5;28;01mimport\u001b[39;00m \u001b[38;5;21;01mpandas\u001b[39;00m \u001b[38;5;28;01mas\u001b[39;00m \u001b[38;5;21;01mpd\u001b[39;00m\n\u001b[0;32m----> 7\u001b[0m \u001b[38;5;28;01mimport\u001b[39;00m \u001b[38;5;21;01mpymc3\u001b[39;00m \u001b[38;5;28;01mas\u001b[39;00m \u001b[38;5;21;01mpm\u001b[39;00m\n\u001b[1;32m      8\u001b[0m \u001b[38;5;28;01mimport\u001b[39;00m \u001b[38;5;21;01mtheano\u001b[39;00m\n\u001b[1;32m      9\u001b[0m \u001b[38;5;28;01mimport\u001b[39;00m \u001b[38;5;21;01mtheano\u001b[39;00m\u001b[38;5;21;01m.\u001b[39;00m\u001b[38;5;21;01mtensor\u001b[39;00m \u001b[38;5;28;01mas\u001b[39;00m \u001b[38;5;21;01mtt\u001b[39;00m\n",
      "\u001b[0;31mModuleNotFoundError\u001b[0m: No module named 'pymc3'"
     ]
    }
   ],
   "source": [
    "import arviz as az\n",
    "import datetime\n",
    "import matplotlib.font_manager\n",
    "import matplotlib.pyplot as plt \n",
    "import numpy as np\n",
    "import pandas as pd\n",
    "import pymc3 as pm\n",
    "import theano\n",
    "import theano.tensor as tt\n",
    "import warnings\n",
    "\n",
    "from bokeh.plotting import figure, output_file, show\n",
    "from bokeh.models import ColumnDataSource, Band, Label, Range1d, BasicTickFormatter, LabelSet, DatetimeTickFormatter, DataRange1d, Span\n",
    "from bokeh.models.tools import HoverTool\n",
    "from bokeh.layouts import layout, column, row\n",
    "from bokeh.io import save\n",
    "from math import pi\n",
    "from scipy import stats as sps\n",
    "from theano.tensor.signal.conv import conv2d\n",
    "from tqdm import tqdm\n",
    "\n",
    "plot_width = 700\n",
    "plot_height = 500\n",
    "\n",
    "from IPython.core.display import display, HTML\n",
    "display(HTML(\"<style>.container {width:99.5% !important;} </style>\"))\n",
    "warnings.simplefilter(action=\"ignore\", category=FutureWarning)\n",
    "%config Completer.use_jedi = False"
   ]
  },
  {
   "cell_type": "code",
   "execution_count": 7,
   "metadata": {
    "ExecuteTime": {
     "end_time": "2023-03-22T16:22:50.031524Z",
     "start_time": "2023-03-22T16:22:49.967920Z"
    }
   },
   "outputs": [
    {
     "name": "stderr",
     "output_type": "stream",
     "text": [
      "/tmp/ipykernel_35520/3747297205.py:1: FutureWarning: The squeeze argument has been deprecated and will be removed in a future version. Append .squeeze(\"columns\") to the call to squeeze.\n",
      "\n",
      "\n",
      "  p_delay =  pd.read_csv('data/p_delay.csv', squeeze=True)\n",
      "/tmp/ipykernel_35520/3747297205.py:4: UserWarning: Parsing dates in DD/MM/YYYY format when dayfirst=False (the default) was specified. This may lead to inconsistently parsed dates! Specify a format to ensure consistent parsing.\n",
      "  first_case_date = pd.to_datetime('18/03/2020') # set first case date\n"
     ]
    }
   ],
   "source": [
    "p_delay =  pd.read_csv('data/p_delay.csv', squeeze=True)\n",
    "ts_mga  = pd.read_excel('data/ts_maringa.xlsx')\n",
    "\n",
    "first_case_date = pd.to_datetime('18/03/2020') # set first case date\n",
    "ts_mga.Data     = ts_mga.Data.apply(pd.to_datetime, format='%d/%m/%Y') \n",
    "ts_mga.Data     = pd.to_datetime(ts_mga.Data)\n",
    "ts_mga          = ts_mga.sort_values('Data')\\\n",
    "                        .reset_index(drop=True)\n",
    "\n",
    "ts_mga['Confirmados_diario']       = ts_mga.Confirmados.diff(1)\n",
    "ts_mga.at[0, 'Confirmados_diario'] = 1\n",
    "    \n",
    "ts_mga['ativos']    = ts_mga['Confirmados'] - ts_mga['encerrados_confirmados'] - ts_mga['Mortes']\n",
    "ts_mga['Suspeitos'] = ts_mga['suspeitos_internados'] + ts_mga['suspeitos_acompanhamento']\n",
    "ts_mga['notificacoes'] = ts_mga[['Confirmados', 'suspeitos_acompanhamento', 'suspeitos_internados', 'encerrados_geral']].sum(axis=1)\n",
    "ts_mga['notificacoes'] = ts_mga['notificacoes'].diff(1)\n",
    "ts_mga.at[0, 'notificacoes'] = 15\n",
    "\n",
    "ts_mga['suspeitos_diario']  = ts_mga['notificacoes']\n",
    "ts_mga['encerrados_diario'] = ts_mga.sort_values('Data', ascending=True)['encerrados_geral']\\\n",
    "                                    .diff(1)\n",
    "\n",
    "ts_mga['testes'] = ts_mga['encerrados_diario'] + ts_mga['Confirmados_diario']\n",
    "\n",
    "df = ts_mga[['Data', 'Confirmados_diario', 'testes']].copy(deep=True)\\\n",
    "                                                     .rename(columns={\n",
    "                                                         'Data': 'date', \n",
    "                                                         'Confirmados_diario': 'positive', \n",
    "                                                         'testes': 'total'\n",
    "                                                     })\n",
    "# df = df[~df.total.isnull()].set_index('date')\n",
    "df = df.set_index('date')\n",
    "for idx in df[df.total.isnull()].index:\n",
    "    df.at[idx, 'total'] = 30"
   ]
  },
  {
   "cell_type": "code",
   "execution_count": 3,
   "metadata": {
    "ExecuteTime": {
     "end_time": "2020-07-20T23:44:28.709998Z",
     "start_time": "2020-07-20T23:44:28.705702Z"
    },
    "code_folding": []
   },
   "outputs": [],
   "source": [
    "buffer_days = 10 # buffer_days is the default number of\n",
    "                 # blank days we pad on the leading edge of the time series because\n",
    "                 # infections occur long before reports and we need to infer values\n",
    "                 # on those days\n",
    "observed    = df\n",
    "first_index = observed.positive.ne(0).argmax()\n",
    "observed    = observed.iloc[first_index:]\n",
    "new_index   = pd.date_range(\n",
    "    start=observed.index[0] - pd.Timedelta(days=buffer_days),\n",
    "    end=observed.index[-1],\n",
    "    freq=\"D\",\n",
    ")\n",
    "observed = observed.reindex(new_index, fill_value=0)"
   ]
  },
  {
   "cell_type": "code",
   "execution_count": 4,
   "metadata": {
    "ExecuteTime": {
     "end_time": "2020-07-20T23:44:28.719806Z",
     "start_time": "2020-07-20T23:44:28.711756Z"
    },
    "code_folding": [
     0,
     16,
     17
    ]
   },
   "outputs": [],
   "source": [
    "def _get_generation_time_interval():\n",
    "    \"\"\" Create a discrete P(Generation Interval)\n",
    "        Source: https://www.ijidonline.com/article/S1201-9712(20)30119-3/pdf \"\"\"\n",
    "    mean_si = 4.7\n",
    "    std_si = 2.9\n",
    "    mu_si = np.log(mean_si ** 2 / np.sqrt(std_si ** 2 + mean_si ** 2))\n",
    "    sigma_si = np.sqrt(np.log(std_si ** 2 / mean_si ** 2 + 1))\n",
    "    dist = sps.lognorm(scale=np.exp(mu_si), s=sigma_si)\n",
    "\n",
    "    # Discretize the Generation Interval up to 20 days max\n",
    "    g_range = np.arange(0, 20)\n",
    "    gt = pd.Series(dist.cdf(g_range), index=g_range)\n",
    "    gt = gt.diff().fillna(0)\n",
    "    gt /= gt.sum()\n",
    "    gt = gt.values\n",
    "    return gt\n",
    "def _get_convolution_ready_gt(len_observed):\n",
    "    \"\"\" Speeds up theano.scan by pre-computing the generation time interval\n",
    "        vector. Thank you to Junpeng Lao for this optimization.\n",
    "        Please see the outbreak simulation math here:\n",
    "        https://staff.math.su.se/hoehle/blog/2020/04/15/effectiveR0.html \"\"\"\n",
    "    gt = _get_generation_time_interval()\n",
    "    convolution_ready_gt = np.zeros((len_observed - 1, len_observed))\n",
    "    for t in range(1, len_observed):\n",
    "        begin = np.maximum(0, t - len(gt) + 1)\n",
    "        slice_update = gt[1 : t - begin + 1][::-1]\n",
    "        convolution_ready_gt[\n",
    "            t - 1, begin : begin + len(slice_update)\n",
    "        ] = slice_update\n",
    "    convolution_ready_gt = theano.shared(convolution_ready_gt)\n",
    "    return convolution_ready_gt"
   ]
  },
  {
   "cell_type": "code",
   "execution_count": 5,
   "metadata": {
    "ExecuteTime": {
     "end_time": "2020-07-20T23:54:21.817288Z",
     "start_time": "2020-07-20T23:44:28.721449Z"
    },
    "code_folding": [
     4
    ]
   },
   "outputs": [
    {
     "name": "stderr",
     "output_type": "stream",
     "text": [
      "Auto-assigning NUTS sampler...\n",
      "Initializing NUTS using jitter+adapt_diag...\n",
      "Multiprocess sampling (4 chains in 4 jobs)\n",
      "NUTS: [alpha, seed, log_r_t]\n"
     ]
    },
    {
     "data": {
      "text/html": [
       "\n",
       "    <div>\n",
       "        <style>\n",
       "            /* Turns off some styling */\n",
       "            progress {\n",
       "                /* gets rid of default border in Firefox and Opera. */\n",
       "                border: none;\n",
       "                /* Needs to be in here for Safari polyfill so background images work as expected. */\n",
       "                background-size: auto;\n",
       "            }\n",
       "            .progress-bar-interrupted, .progress-bar-interrupted::-webkit-progress-bar {\n",
       "                background: #F44336;\n",
       "            }\n",
       "        </style>\n",
       "      <progress value='8000' class='' max='8000' style='width:300px; height:20px; vertical-align: middle;'></progress>\n",
       "      100.00% [8000/8000 09:38<00:00 Sampling 4 chains, 0 divergences]\n",
       "    </div>\n",
       "    "
      ],
      "text/plain": [
       "<IPython.core.display.HTML object>"
      ]
     },
     "metadata": {},
     "output_type": "display_data"
    },
    {
     "name": "stderr",
     "output_type": "stream",
     "text": [
      "Sampling 4 chains for 1_000 tune and 1_000 draw iterations (4_000 + 4_000 draws total) took 580 seconds.\n"
     ]
    }
   ],
   "source": [
    "nonzero_days = observed.total.gt(0)\n",
    "len_observed = len(observed)\n",
    "convolution_ready_gt = _get_convolution_ready_gt(len_observed)\n",
    "x = np.arange(len_observed)[:, None]\n",
    "coords = {\n",
    "    \"date\": observed.index.values,\n",
    "    \"nonzero_date\": observed.index.values[observed.total.gt(0)],\n",
    "}\n",
    "with pm.Model(coords=coords) as model:\n",
    "    # Let log_r_t walk randomly with a fixed prior of ~0.035. Think\n",
    "    # of this number as how quickly r_t can react.\n",
    "    log_r_t = pm.GaussianRandomWalk(\n",
    "        \"log_r_t\",\n",
    "        sigma=0.1,\n",
    "        dims=[\"date\"]\n",
    "    )\n",
    "    r_t = pm.Deterministic(\"r_t\", pm.math.exp(log_r_t), dims=[\"date\"])\n",
    "\n",
    "    # For a given seed population and R_t curve, we calculate the\n",
    "    # implied infection curve by simulating an outbreak. While this may\n",
    "    # look daunting, it's simply a way to recreate the outbreak\n",
    "    # simulation math inside the model:\n",
    "    # https://staff.math.su.se/hoehle/blog/2020/04/15/effectiveR0.html\n",
    "    seed = pm.Exponential(\"seed\", 1 / 0.02)\n",
    "    y0 = tt.zeros(len_observed)\n",
    "    y0 = tt.set_subtensor(y0[0], seed)\n",
    "    outputs, _ = theano.scan(\n",
    "        fn=lambda t, gt, y, r_t: tt.set_subtensor(y[t], tt.sum(r_t * y * gt)),\n",
    "        sequences=[tt.arange(1, len_observed), convolution_ready_gt],\n",
    "        outputs_info=y0,\n",
    "        non_sequences=r_t,\n",
    "        n_steps=len_observed - 1,\n",
    "    )\n",
    "    infections = pm.Deterministic(\"infections\", outputs[-1], dims=[\"date\"])\n",
    "\n",
    "    # Convolve infections to confirmed positive reports based on a known\n",
    "    # p_delay distribution. See patients.py for details on how we calculate\n",
    "    # this distribution.\n",
    "    test_adjusted_positive = pm.Deterministic(\n",
    "        \"test_adjusted_positive\",\n",
    "        conv2d(\n",
    "            tt.reshape(infections, (1, len_observed)),\n",
    "            tt.reshape(p_delay, (1, len(p_delay))),\n",
    "            border_mode=\"full\",\n",
    "        )[0, :len_observed],\n",
    "        dims=[\"date\"]\n",
    "    )\n",
    "\n",
    "    # Picking an exposure with a prior that exposure never goes below\n",
    "    # 0.1 * max_tests. The 0.1 only affects early values of Rt when\n",
    "    # testing was minimal or when data errors cause underreporting\n",
    "    # of tests.\n",
    "    tests = pm.Data(\"tests\", observed.total.values, dims=[\"date\"])\n",
    "    exposure = pm.Deterministic(\n",
    "        \"exposure\",\n",
    "        pm.math.clip(tests, observed.total.max() * 0.1, 1e9),\n",
    "        dims=[\"date\"]\n",
    "    )\n",
    "\n",
    "    # Test-volume adjust reported cases based on an assumed exposure\n",
    "    # Note: this is similar to the exposure parameter in a Poisson\n",
    "    # regression.\n",
    "    positive = pm.Deterministic(\n",
    "        \"positive\", exposure * test_adjusted_positive,\n",
    "        dims=[\"date\"]\n",
    "    )\n",
    "\n",
    "    # Save data as part of trace so we can access in inference_data\n",
    "    observed_positive = pm.Data(\"observed_positive\", observed.positive.values, dims=[\"date\"])\n",
    "    nonzero_observed_positive = pm.Data(\"nonzero_observed_positive\", observed.positive[nonzero_days.values].values, dims=[\"nonzero_date\"])\n",
    "\n",
    "    positive_nonzero = pm.NegativeBinomial(\n",
    "        \"nonzero_positive\",\n",
    "        mu=positive[nonzero_days.values],\n",
    "        alpha=pm.Gamma(\"alpha\", mu=6, sigma=1),\n",
    "        observed=nonzero_observed_positive,\n",
    "        dims=[\"nonzero_date\"]\n",
    "    )\n",
    "\n",
    "    trace = pm.sample(\n",
    "            cores=4,\n",
    "            chains=4,\n",
    "            tune=1000,\n",
    "            draws=1000,\n",
    "            target_accept=.95,\n",
    "            init=\"jitter+adapt_diag\",\n",
    "        )    "
   ]
  },
  {
   "cell_type": "code",
   "execution_count": 6,
   "metadata": {
    "ExecuteTime": {
     "end_time": "2020-07-20T23:54:21.823904Z",
     "start_time": "2020-07-20T23:54:21.818265Z"
    },
    "code_folding": [
     0,
     30
    ]
   },
   "outputs": [],
   "source": [
    "def summarize_inference_data(inference_data: az.InferenceData):\n",
    "    \"\"\" Summarizes an inference_data object into the form that we publish on rt.live \"\"\"\n",
    "    posterior = inference_data.posterior\n",
    "    hdi_mass = 80\n",
    "    hpdi = az.hdi(posterior.r_t, hdi_prob=hdi_mass / 100).r_t\n",
    "\n",
    "    observed_positive = inference_data.constant_data.observed_positive.to_series()\n",
    "    scale_to_positives = lambda data: observed_positive.mean() / np.mean(data) * data\n",
    "    tests = inference_data.constant_data.tests.to_series()\n",
    "    normalized_positive = observed_positive / tests.clip(0.1 * tests.max())\n",
    "\n",
    "    summary = pd.DataFrame(\n",
    "        data={\n",
    "            \"mean\": posterior.r_t.mean([\"draw\", \"chain\"]),\n",
    "            \"median\": posterior.r_t.median([\"chain\", \"draw\"]),\n",
    "            f\"lower_{hdi_mass}\": hpdi[:, 0],\n",
    "            f\"upper_{hdi_mass}\": hpdi[:, 1],\n",
    "            \"infections\": scale_to_positives(\n",
    "                posterior.infections.mean([\"draw\", \"chain\"])\n",
    "            ),\n",
    "            \"test_adjusted_positive\": scale_to_positives(\n",
    "                posterior.test_adjusted_positive.mean([\"draw\", \"chain\"])\n",
    "            ),\n",
    "            \"test_adjusted_positive_raw\": scale_to_positives(normalized_positive),\n",
    "            \"positive\": observed_positive,\n",
    "            \"tests\": tests,\n",
    "        },\n",
    "        index=pd.Index(posterior.date.values, name=\"date\"),\n",
    "    )\n",
    "    return summary\n",
    "def inference_data():\n",
    "    \"\"\" Returns an Arviz InferenceData object \"\"\"\n",
    "\n",
    "    with model:\n",
    "        posterior_predictive = pm.sample_posterior_predictive(trace)\n",
    "\n",
    "    _inference_data = az.from_pymc3(\n",
    "        trace=trace,\n",
    "        posterior_predictive=posterior_predictive,\n",
    "    )\n",
    "    return _inference_data"
   ]
  },
  {
   "cell_type": "code",
   "execution_count": 7,
   "metadata": {
    "ExecuteTime": {
     "end_time": "2020-07-20T23:54:58.546623Z",
     "start_time": "2020-07-20T23:54:21.825600Z"
    }
   },
   "outputs": [
    {
     "data": {
      "text/html": [
       "\n",
       "    <div>\n",
       "        <style>\n",
       "            /* Turns off some styling */\n",
       "            progress {\n",
       "                /* gets rid of default border in Firefox and Opera. */\n",
       "                border: none;\n",
       "                /* Needs to be in here for Safari polyfill so background images work as expected. */\n",
       "                background-size: auto;\n",
       "            }\n",
       "            .progress-bar-interrupted, .progress-bar-interrupted::-webkit-progress-bar {\n",
       "                background: #F44336;\n",
       "            }\n",
       "        </style>\n",
       "      <progress value='4000' class='' max='4000' style='width:300px; height:20px; vertical-align: middle;'></progress>\n",
       "      100.00% [4000/4000 00:32<00:00]\n",
       "    </div>\n",
       "    "
      ],
      "text/plain": [
       "<IPython.core.display.HTML object>"
      ]
     },
     "metadata": {},
     "output_type": "display_data"
    }
   ],
   "source": [
    "inference = inference_data()\n",
    "results   = summarize_inference_data(inference)"
   ]
  },
  {
   "cell_type": "code",
   "execution_count": 8,
   "metadata": {
    "ExecuteTime": {
     "end_time": "2020-07-20T23:54:58.574109Z",
     "start_time": "2020-07-20T23:54:58.547867Z"
    }
   },
   "outputs": [],
   "source": [
    "samples = trace['r_t']\n",
    "df_rt_live = pd.DataFrame({\n",
    "    'date': results.index,\n",
    "    'mean_r': np.mean(samples, axis=0),\n",
    "    'lower_5': np.percentile(samples, 5, axis=0),\n",
    "    'upper_95': np.percentile(samples, 95, axis=0),\n",
    "})\n",
    "\n",
    "df_rt_r = pd.read_csv('data/rt_r.csv', sep=';')\n",
    "df_rt_r.columns = [\n",
    "    'Unnamed: 0', \n",
    "    't_start', \n",
    "    't_end', \n",
    "    'mean_r', \n",
    "    'Std(R)',\n",
    "    'Quantile.0.025(R)', \n",
    "    'lower_5', \n",
    "    'Quantile.0.25(R)',\n",
    "    'Median(R)', \n",
    "    'Quantile.0.75(R)', \n",
    "    'upper_95',\n",
    "    'Quantile.0.975(R)'\n",
    "]\n",
    "df_rt_r = df_rt_r[[\n",
    "    'mean_r',\n",
    "    'lower_5',\n",
    "    'upper_95',\n",
    "    't_start',\n",
    "    't_end'\n",
    "]]\n",
    "\n",
    "for col in ['mean_r','lower_5','upper_95']:\n",
    "    df_rt_r[col] = [float(i.replace(',', '.')) for i in df_rt_r[col].values]\n",
    "    \n",
    "date_dict = {\n",
    "    i: datetime.datetime(2020,3,30) + datetime.timedelta(days=int(i)) for i \n",
    "    in np.arange(1, df_rt_r.t_end.max()+1)\n",
    "}\n",
    "df_rt_r['date'] = pd.to_datetime([date_dict[i] for i in df_rt_r.t_end.values])"
   ]
  },
  {
   "cell_type": "code",
   "execution_count": 9,
   "metadata": {
    "ExecuteTime": {
     "end_time": "2020-07-20T23:54:58.645648Z",
     "start_time": "2020-07-20T23:54:58.575181Z"
    }
   },
   "outputs": [
    {
     "data": {
      "text/plain": [
       "'/home/andre/github/rtlive_maringa/html/modelo_generativo.html'"
      ]
     },
     "execution_count": 9,
     "metadata": {},
     "output_type": "execute_result"
    }
   ],
   "source": [
    "filename='modelo_generativo'\n",
    "\n",
    "source = ColumnDataSource(results.reset_index())\n",
    "source_raw = ColumnDataSource(ts_mga)\n",
    "\n",
    "fig = figure(\n",
    "    x_axis_type=\"datetime\", \n",
    "    plot_width=plot_width, \n",
    "    plot_height=plot_height, \n",
    "    tools=\"\", \n",
    "    sizing_mode='stretch_both'\n",
    ")\n",
    "formatters = {\n",
    "    '@date': 'datetime',\n",
    "    '@Data': 'datetime'\n",
    "}\n",
    "\n",
    "l1 = fig.line(\n",
    "    x='Data', \n",
    "    y='Confirmados_diario',\n",
    "    source=source_raw,\n",
    "    line_width=2, \n",
    "    color='#bdbdbd', \n",
    "    legend_label='Confirmados'\n",
    ")\n",
    "\n",
    "hover = HoverTool(formatters=formatters, renderers=[l1])\n",
    "hover.tooltips = [\n",
    "    ('Data', '@Data{%d/%m/%Y}'),\n",
    "    ('Confirmados', '@Confirmados_diario{@int}'),\n",
    "]\n",
    "fig.add_tools(hover)\n",
    "\n",
    "l2 = fig.line(\n",
    "    x='date', \n",
    "    y='test_adjusted_positive_raw',\n",
    "    source=source,\n",
    "    line_width=2, \n",
    "    color='#99d8c9', \n",
    "    legend_label='Confirmados esperados'\n",
    ")\n",
    "hover = HoverTool(formatters=formatters, renderers=[l2])\n",
    "hover.tooltips=[\n",
    "    ('Data', '@date{%d/%m/%Y}'),\n",
    "    ('Confirmados esperados', '@test_adjusted_positive_raw{@int}'),\n",
    "]\n",
    "fig.add_tools(hover)\n",
    "\n",
    "l3 = fig.line(\n",
    "    x='date', \n",
    "    y='test_adjusted_positive',\n",
    "    source=source,\n",
    "    line_width=3, \n",
    "    color='#f1a340', \n",
    "    legend_label='Confirmados esperados (testagem uniforme)'\n",
    ")\n",
    "hover = HoverTool(formatters=formatters, renderers=[l3])\n",
    "hover.tooltips=[\n",
    "    ('Data', '@date{%d/%m/%Y}'),\n",
    "    ('Confirmados (com testagem uniforme)', '@test_adjusted_positive{@int}'),\n",
    "]\n",
    "fig.add_tools(hover)\n",
    "\n",
    "l4 = fig.line(\n",
    "    x='date', \n",
    "    y='infections',\n",
    "    source=source,\n",
    "    line_width=3, \n",
    "    color='#998ec3', \n",
    "    legend_label='Infectados'\n",
    ")\n",
    "hover = HoverTool(formatters=formatters, renderers=[l4])\n",
    "hover.tooltips=[\n",
    "    ('Data', '@date{%d/%m/%Y}'),\n",
    "    ('Infectados', '@infections{@int}'),\n",
    "]\n",
    "fig.add_tools(hover)\n",
    "\n",
    "fig.xaxis.formatter = DatetimeTickFormatter(days=\"%d/%m\", months=\"%d/%m\")\n",
    "fig.yaxis.formatter = BasicTickFormatter(use_scientific=False)\n",
    "\n",
    "fig.xaxis.axis_label = 'Data'\n",
    "fig.yaxis.axis_label = 'Casos'\n",
    "# fig.y_range = Range1d(0, df_rt_r['upper_95'].max())\n",
    "fig.toolbar.logo     = None\n",
    "fig.toolbar_location = None\n",
    "fig.xaxis.axis_label_text_font_size  = \"12pt\"\n",
    "fig.yaxis.axis_label_text_font_size  = \"12pt\"\n",
    "fig.xaxis.major_label_text_font_size = \"10pt\"\n",
    "fig.yaxis.major_label_text_font_size = \"10pt\"\n",
    "fig.xaxis.axis_label_text_font_style = 'normal'\n",
    "fig.yaxis.axis_label_text_font_style = 'normal'\n",
    "fig.xgrid.grid_line_color = None\n",
    "fig.ygrid.grid_line_color = None\n",
    "fig.legend.location = 'top_left'\n",
    "output_file(f\"html/{filename}.html\")\n",
    "save(fig,f\"html/{filename}.html\")"
   ]
  },
  {
   "cell_type": "code",
   "execution_count": 10,
   "metadata": {
    "ExecuteTime": {
     "end_time": "2020-07-20T23:54:58.694186Z",
     "start_time": "2020-07-20T23:54:58.646551Z"
    }
   },
   "outputs": [
    {
     "data": {
      "text/plain": [
       "'/home/andre/github/rtlive_maringa/html/rt_efetivo.html'"
      ]
     },
     "execution_count": 10,
     "metadata": {},
     "output_type": "execute_result"
    }
   ],
   "source": [
    "filename='rt_efetivo'\n",
    "\n",
    "source_live = ColumnDataSource(df_rt_live)\n",
    "\n",
    "fig = figure(\n",
    "    x_axis_type=\"datetime\", \n",
    "    plot_width=plot_width, \n",
    "    plot_height=plot_height, \n",
    "    tools=\"\", \n",
    "    sizing_mode='stretch_both'\n",
    ")\n",
    "\n",
    "hline = Span(location=1, dimension='width', line_color='#525252', line_width=2, line_dash='dashed')\n",
    "fig.add_layout(hline)\n",
    "\n",
    "fig.line(\n",
    "    x='date', \n",
    "    y='mean_r',\n",
    "    source=source_live,\n",
    "    line_width=3, \n",
    "    color='#f768a1', \n",
    "    legend_label=f\"Efetivo\"\n",
    ")\n",
    "\n",
    "band_live = Band(\n",
    "    base='date', \n",
    "    lower='lower_5', \n",
    "    upper='upper_95',\n",
    "    fill_alpha=.2, \n",
    "    line_width=1, \n",
    "    fill_color='#f768a1', \n",
    "    line_color='#f768a1',\n",
    "    source=source_live\n",
    ")\n",
    "fig.add_layout(band_live)\n",
    "c1_live = fig.circle(\n",
    "    x='date', \n",
    "    y='mean_r',\n",
    "    source=source_live,\n",
    "    size=5, \n",
    "    color='#f768a1'\n",
    ")\n",
    "\n",
    "formatters = {'@date': 'datetime'}\n",
    "\n",
    "hover = HoverTool(formatters=formatters, renderers=[c1_live])\n",
    "hover.tooltips = [\n",
    "    ('Data', '@date{%d/%m/%Y}'),\n",
    "    ('Número de reprodução', '@mean_r'),\n",
    "]\n",
    "fig.add_tools(hover)\n",
    "\n",
    "fig.xaxis.formatter = DatetimeTickFormatter(days=\"%d/%m\", months=\"%d/%m\")\n",
    "fig.yaxis.formatter = BasicTickFormatter(use_scientific=False)\n",
    "\n",
    "fig.xaxis.axis_label = 'Data'\n",
    "fig.yaxis.axis_label = 'Número de reprodução'\n",
    "fig.y_range          = Range1d(df_rt_live['lower_5'].min()*.5, df_rt_live['upper_95'].max()*1.25)\n",
    "fig.toolbar.logo     = None\n",
    "fig.toolbar_location = None\n",
    "fig.xaxis.axis_label_text_font_size  = \"12pt\"\n",
    "fig.yaxis.axis_label_text_font_size  = \"12pt\"\n",
    "fig.xaxis.major_label_text_font_size = \"10pt\"\n",
    "fig.yaxis.major_label_text_font_size = \"10pt\"\n",
    "fig.xaxis.axis_label_text_font_style = 'normal'\n",
    "fig.yaxis.axis_label_text_font_style = 'normal'\n",
    "fig.xgrid.grid_line_color = None\n",
    "fig.ygrid.grid_line_color = None\n",
    "fig.legend.location = 'top_left'\n",
    "output_file(f\"html/{filename}.html\")\n",
    "save(fig,f\"html/{filename}.html\")"
   ]
  },
  {
   "cell_type": "code",
   "execution_count": 11,
   "metadata": {
    "ExecuteTime": {
     "end_time": "2020-07-20T23:54:58.741265Z",
     "start_time": "2020-07-20T23:54:58.695296Z"
    }
   },
   "outputs": [
    {
     "data": {
      "text/plain": [
       "'/home/andre/github/rtlive_maringa/html/rt_instantaneo.html'"
      ]
     },
     "execution_count": 11,
     "metadata": {},
     "output_type": "execute_result"
    }
   ],
   "source": [
    "filename = 'rt_instantaneo'\n",
    "\n",
    "source = ColumnDataSource(df_rt_r)\n",
    "\n",
    "fig = figure(\n",
    "    x_axis_type=\"datetime\", \n",
    "    plot_width=plot_width, \n",
    "    plot_height=plot_height, \n",
    "    tools=\"\", \n",
    "    sizing_mode='stretch_both'\n",
    ")\n",
    "\n",
    "hline = Span(location=1, dimension='width', line_color='#525252', line_width=2, line_dash='dashed')\n",
    "fig.add_layout(hline)\n",
    "\n",
    "fig.line(\n",
    "    x='date', \n",
    "    y='mean_r',\n",
    "    source=source,\n",
    "    line_width=3, \n",
    "    color='#ef6548', \n",
    "    legend_label=f\"Instantâneo\"\n",
    ")\n",
    "band = Band(\n",
    "    base='date', \n",
    "    lower='lower_5', \n",
    "    upper='upper_95', \n",
    "    fill_alpha=.2, \n",
    "    line_width=1, \n",
    "    fill_color='#ef6548', \n",
    "    line_color='#ef6548',\n",
    "    source=source\n",
    ")\n",
    "fig.add_layout(band)\n",
    "c1 = fig.circle(\n",
    "    x='date', \n",
    "    y='mean_r',\n",
    "    source=source,\n",
    "    size=5, \n",
    "    color='#ef6548'\n",
    ")\n",
    "\n",
    "formatters={'@date': 'datetime'}\n",
    "\n",
    "hover = HoverTool(formatters=formatters, renderers=[c1])\n",
    "hover.tooltips=[\n",
    "    ('Data', '@date{%d/%m/%Y}'),\n",
    "    ('Número de reprodução', '@mean_r'),\n",
    "]\n",
    "fig.add_tools(hover)\n",
    "\n",
    "fig.xaxis.formatter = DatetimeTickFormatter(days=\"%d/%m\", months=\"%d/%m\")\n",
    "fig.yaxis.formatter = BasicTickFormatter(use_scientific=False)\n",
    "\n",
    "fig.xaxis.axis_label = 'Data'\n",
    "fig.yaxis.axis_label = 'Número de reprodução'\n",
    "fig.y_range = Range1d(0, df_rt_r['upper_95'].max())\n",
    "fig.toolbar.logo     = None\n",
    "fig.toolbar_location = None\n",
    "fig.xaxis.axis_label_text_font_size  = \"12pt\"\n",
    "fig.yaxis.axis_label_text_font_size  = \"12pt\"\n",
    "fig.xaxis.major_label_text_font_size = \"10pt\"\n",
    "fig.yaxis.major_label_text_font_size = \"10pt\"\n",
    "fig.xaxis.axis_label_text_font_style = 'normal'\n",
    "fig.yaxis.axis_label_text_font_style = 'normal'\n",
    "fig.xgrid.grid_line_color = None\n",
    "fig.ygrid.grid_line_color = None\n",
    "output_file(f\"html/{filename}.html\")\n",
    "save(fig,f\"html/{filename}.html\")"
   ]
  }
 ],
 "metadata": {
  "kernelspec": {
   "display_name": "Python 3 (ipykernel)",
   "language": "python",
   "name": "python3"
  },
  "language_info": {
   "codemirror_mode": {
    "name": "ipython",
    "version": 3
   },
   "file_extension": ".py",
   "mimetype": "text/x-python",
   "name": "python",
   "nbconvert_exporter": "python",
   "pygments_lexer": "ipython3",
   "version": "3.10.6"
  },
  "varInspector": {
   "cols": {
    "lenName": 16,
    "lenType": 16,
    "lenVar": 40
   },
   "kernels_config": {
    "python": {
     "delete_cmd_postfix": "",
     "delete_cmd_prefix": "del ",
     "library": "var_list.py",
     "varRefreshCmd": "print(var_dic_list())"
    },
    "r": {
     "delete_cmd_postfix": ") ",
     "delete_cmd_prefix": "rm(",
     "library": "var_list.r",
     "varRefreshCmd": "cat(var_dic_list()) "
    }
   },
   "types_to_exclude": [
    "module",
    "function",
    "builtin_function_or_method",
    "instance",
    "_Feature"
   ],
   "window_display": false
  }
 },
 "nbformat": 4,
 "nbformat_minor": 4
}
